{
  "nbformat": 4,
  "nbformat_minor": 0,
  "metadata": {
    "colab": {
      "provenance": []
    },
    "kernelspec": {
      "name": "python3",
      "display_name": "Python 3"
    },
    "language_info": {
      "name": "python"
    }
  },
  "cells": [
    {
      "cell_type": "markdown",
      "source": [
        "# Question Answering\n",
        "\n",
        "* Easy to run with standard tools\n",
        "* Models default to English\n",
        "* But you can find many more at the HuggingFace model repository"
      ],
      "metadata": {
        "id": "srGEIXYAospd"
      }
    },
    {
      "cell_type": "code",
      "execution_count": 24,
      "metadata": {
        "colab": {
          "base_uri": "https://localhost:8080/"
        },
        "id": "2mZBRVqborDa",
        "outputId": "126fa878-6fdd-4ade-e9de-02b14bf69e2c"
      },
      "outputs": [
        {
          "output_type": "stream",
          "name": "stdout",
          "text": [
            "Requirement already satisfied: transformers in /usr/local/lib/python3.11/dist-packages (4.48.3)\n",
            "Requirement already satisfied: filelock in /usr/local/lib/python3.11/dist-packages (from transformers) (3.17.0)\n",
            "Requirement already satisfied: huggingface-hub<1.0,>=0.24.0 in /usr/local/lib/python3.11/dist-packages (from transformers) (0.28.1)\n",
            "Requirement already satisfied: numpy>=1.17 in /usr/local/lib/python3.11/dist-packages (from transformers) (1.26.4)\n",
            "Requirement already satisfied: packaging>=20.0 in /usr/local/lib/python3.11/dist-packages (from transformers) (24.2)\n",
            "Requirement already satisfied: pyyaml>=5.1 in /usr/local/lib/python3.11/dist-packages (from transformers) (6.0.2)\n",
            "Requirement already satisfied: regex!=2019.12.17 in /usr/local/lib/python3.11/dist-packages (from transformers) (2024.11.6)\n",
            "Requirement already satisfied: requests in /usr/local/lib/python3.11/dist-packages (from transformers) (2.32.3)\n",
            "Requirement already satisfied: tokenizers<0.22,>=0.21 in /usr/local/lib/python3.11/dist-packages (from transformers) (0.21.0)\n",
            "Requirement already satisfied: safetensors>=0.4.1 in /usr/local/lib/python3.11/dist-packages (from transformers) (0.5.3)\n",
            "Requirement already satisfied: tqdm>=4.27 in /usr/local/lib/python3.11/dist-packages (from transformers) (4.67.1)\n",
            "Requirement already satisfied: fsspec>=2023.5.0 in /usr/local/lib/python3.11/dist-packages (from huggingface-hub<1.0,>=0.24.0->transformers) (2024.10.0)\n",
            "Requirement already satisfied: typing-extensions>=3.7.4.3 in /usr/local/lib/python3.11/dist-packages (from huggingface-hub<1.0,>=0.24.0->transformers) (4.12.2)\n",
            "Requirement already satisfied: charset-normalizer<4,>=2 in /usr/local/lib/python3.11/dist-packages (from requests->transformers) (3.4.1)\n",
            "Requirement already satisfied: idna<4,>=2.5 in /usr/local/lib/python3.11/dist-packages (from requests->transformers) (3.10)\n",
            "Requirement already satisfied: urllib3<3,>=1.21.1 in /usr/local/lib/python3.11/dist-packages (from requests->transformers) (2.3.0)\n",
            "Requirement already satisfied: certifi>=2017.4.17 in /usr/local/lib/python3.11/dist-packages (from requests->transformers) (2025.1.31)\n"
          ]
        }
      ],
      "source": [
        "!pip install transformers"
      ]
    },
    {
      "cell_type": "code",
      "source": [
        "import transformers\n",
        "#this will load a default English model trained for Question Answering\n",
        "pipe=transformers.pipeline(\"question-answering\")"
      ],
      "metadata": {
        "colab": {
          "base_uri": "https://localhost:8080/"
        },
        "id": "qbaqkJWBpHzD",
        "outputId": "3c64e563-e285-47e1-a43f-a27fd7c27ed7"
      },
      "execution_count": 25,
      "outputs": [
        {
          "output_type": "stream",
          "name": "stderr",
          "text": [
            "No model was supplied, defaulted to distilbert/distilbert-base-cased-distilled-squad and revision 564e9b5 (https://huggingface.co/distilbert/distilbert-base-cased-distilled-squad).\n",
            "Using a pipeline without specifying a model name and revision in production is not recommended.\n",
            "Device set to use cpu\n"
          ]
        }
      ]
    },
    {
      "cell_type": "code",
      "source": [
        "context=\"\"\"Forbes has ranked Finland as the world's sixth best country for business in its annual list,\n",
        "the Best Countries for Business. Finland is the best country in the world in terms of individual and property rights,\n",
        "the  second best in terms of the innovation landscape and\n",
        "the third best in terms of corruption, the American business magazine lists.\"\"\"\n",
        "\n",
        "pipe(question=\"What is Finland's rank in terms of corruption?\", context=context)"
      ],
      "metadata": {
        "colab": {
          "base_uri": "https://localhost:8080/"
        },
        "id": "7DZli074pcGj",
        "outputId": "36157737-f8b2-4c8e-b702-b43bf444f578"
      },
      "execution_count": 26,
      "outputs": [
        {
          "output_type": "execute_result",
          "data": {
            "text/plain": [
              "{'score': 0.5244101881980896, 'start': 273, 'end': 278, 'answer': 'third'}"
            ]
          },
          "metadata": {},
          "execution_count": 26
        }
      ]
    },
    {
      "cell_type": "markdown",
      "source": [
        "# Question Answering tasks"
      ],
      "metadata": {
        "id": "8Y9qtWxe-Ovp"
      }
    },
    {
      "cell_type": "markdown",
      "source": [
        "\n",
        "\n",
        "## Task 1\n",
        "\n",
        "* Pick a few short paragraphs from your favorite source\n",
        "* Come up with a few questions with an answer in the text and test the QA model\n",
        "* How well did the model fare?\n",
        "* Was it easy to come up with non-trivial questions? Think whether this approach is a good approach to build a QA dataset."
      ],
      "metadata": {
        "id": "iaYU_NHn-ByB"
      }
    },
    {
      "cell_type": "code",
      "source": [
        "context=\"\"\"Marshall Bruce Mathers III (born October 17, 1972), known professionally as Eminem (often stylized as EMINƎM), is an American rapper, songwriter, and record producer. Regarded as one of the greatest and most influential rappers of all time,[3] he is credited with popularizing hip-hop in Middle America and breaking down racial barriers for the acceptance of white rappers in popular music. While much of his transgressive work during the late 1990s and early 2000s made him a controversial figure, he came to be a representation of popular angst of the American underclass.\n",
        "\n",
        "After the release of his debut album Infinite (1996) and the extended play Slim Shady EP (1997), Eminem signed with Dr. Dre's Aftermath Entertainment and subsequently achieved mainstream popularity in 1999 with The Slim Shady LP. His next two releases, The Marshall Mathers LP (2000) and The Eminem Show (2002), became worldwide successes; the latter was the best-selling album worldwide of that year, and remains the best-selling hip-hop album in history. Following the release of Encore (2004), Eminem went on hiatus, largely due to a prescription drug addiction.[4] He returned to the music industry with the releases of Relapse (2009) and Recovery (2010), the latter becoming the best-selling album worldwide of 2010. Each of his subsequent releases – The Marshall Mathers LP 2 (2013), Revival (2017), Kamikaze (2018), Music to Be Murdered By (2020), and The Death of Slim Shady (Coup de Grâce) (2024) – have debuted atop the US Billboard 200.\n",
        "\n",
        "Eminem was also a member of the hip-hop groups New Jacks, Soul Intent, Outsidaz, and D12, and has collaborated with fellow Detroit-based rapper Royce da 5'9\" to form the duo Bad Meets Evil. He starred in the 2002 musical drama film 8 Mile, in which he played a dramatized version of himself. \"Lose Yourself\", a song from its soundtrack, topped the Billboard Hot 100 for 12 weeks—the most for a solo rap song—and won an Academy Award for Best Original Song, making him the first hip-hop artist ever to win the award.[5] Eminem also co-founded Shady Records, which helped launch the careers of artists such as D12, 50 Cent, and Obie Trice, and established his own Sirius XM Radio channel, Shade 45.\n",
        "\n",
        "Eminem is among the best-selling music artists of all time, with estimated worldwide sales of over 220 million records. He was the best-selling music artist in the United States for the 2000s, placing third for the 2010s. He was the first musical act to have ten albums consecutively debut at number one on the Billboard 200 chart,[6] and has had five number-one singles on the Billboard Hot 100.[7] Six of his releases — The Marshall Mathers LP, The Eminem Show, Curtain Call: The Hits (2005), \"Lose Yourself\", \"Love the Way You Lie\" (featuring Rihanna), and \"Not Afraid\" — have received diamond certification or higher by the Recording Industry Association of America (RIAA).[8] His accolades include 15 Grammy Awards, eight American Music Awards, 17 Billboard Music Awards, a Primetime Emmy Award, and an MTV Europe Music Global Icon Award. Billboard named him the Artist of the Decade (2000s) and in 2011, Rolling Stone ranked him among the greatest artists and greatest songwriters of all-time, calling him the \"King of Hip Hop.\" In 2022, he was inducted into the Rock and Roll Hall of Fame.[9]\"\"\"\n",
        "\n",
        "pipe(question=\"How many records did Eminem sell\", context=context)"
      ],
      "metadata": {
        "colab": {
          "base_uri": "https://localhost:8080/"
        },
        "id": "vzzLEsNB-C5V",
        "outputId": "39fc5199-3a98-4db9-bea2-110d9300d8d9"
      },
      "execution_count": 27,
      "outputs": [
        {
          "output_type": "execute_result",
          "data": {
            "text/plain": [
              "{'score': 0.48226356506347656,\n",
              " 'start': 2317,\n",
              " 'end': 2333,\n",
              " 'answer': 'over 220 million'}"
            ]
          },
          "metadata": {},
          "execution_count": 27
        }
      ]
    },
    {
      "cell_type": "markdown",
      "source": [
        "TRUE"
      ],
      "metadata": {
        "id": "rHutReUxA7HI"
      }
    },
    {
      "cell_type": "code",
      "source": [
        "pipe(question=\"Which song of him did win an Oscar\", context=context)"
      ],
      "metadata": {
        "colab": {
          "base_uri": "https://localhost:8080/"
        },
        "id": "wrk68cWZ-4zC",
        "outputId": "d6e05352-41b4-4a81-ab48-a83d81262681"
      },
      "execution_count": 28,
      "outputs": [
        {
          "output_type": "execute_result",
          "data": {
            "text/plain": [
              "{'score': 0.14234240353107452,\n",
              " 'start': 1818,\n",
              " 'end': 1831,\n",
              " 'answer': 'Lose Yourself'}"
            ]
          },
          "metadata": {},
          "execution_count": 28
        }
      ]
    },
    {
      "cell_type": "markdown",
      "source": [
        "TRUE"
      ],
      "metadata": {
        "id": "0NZ-OO9SBBog"
      }
    },
    {
      "cell_type": "code",
      "source": [
        "pipe(question=\"How many awards does he have\", context=context)"
      ],
      "metadata": {
        "colab": {
          "base_uri": "https://localhost:8080/"
        },
        "id": "2IC_SJ70_cG6",
        "outputId": "f401e8ae-e2ef-4682-e379-dd9585adcef8"
      },
      "execution_count": 29,
      "outputs": [
        {
          "output_type": "execute_result",
          "data": {
            "text/plain": [
              "{'score': 0.00021526248019654304,\n",
              " 'start': 2322,\n",
              " 'end': 2333,\n",
              " 'answer': '220 million'}"
            ]
          },
          "metadata": {},
          "execution_count": 29
        }
      ]
    },
    {
      "cell_type": "markdown",
      "source": [
        "FALSE"
      ],
      "metadata": {
        "id": "NrjA8KJWA4I4"
      }
    },
    {
      "cell_type": "markdown",
      "source": [
        "It was not hard to come up with non-trivial questions for that text. For some texts, however, it might be challenging. Yes, I think this is a basic but good aproach to build a Q&A dataset."
      ],
      "metadata": {
        "id": "yFmmWHFJOJIS"
      }
    },
    {
      "cell_type": "markdown",
      "source": [
        "\n",
        "\n",
        "## Task 2\n",
        "\n",
        "* If you can access ChatGPT, ask it the same questions. Did it succeed?"
      ],
      "metadata": {
        "id": "8CNKSD-A-FVj"
      }
    },
    {
      "cell_type": "markdown",
      "source": [
        "Question1: How many records did Eminem sell?\n",
        "\n",
        "Answer1: Eminem has sold over 220 million records worldwide. In the United States, his album sales exceed 49.1 million.\n",
        "\n",
        "Question2: Which song of him did win an Oscar?\n",
        "\n",
        "Answer2: Eminem's song \"Lose Yourself\" won an Oscar for Best Original Song at the 75th Academy Awards in 2003. It was featured in the movie 8 Mile.\n",
        "\n",
        "Question3: How many awards does he have?\n",
        "\n",
        "Answer3: ​Eminem has won over 600 awards from more than 700 nominations throughout his career. This impressive tally includes 15 Grammy Awards, 17 Billboard Music Awards, 10 American Music Awards, 4 Brit Awards, and an Academy Award for Best Original Song.\n",
        "\n",
        "ChatGPT is definetely better."
      ],
      "metadata": {
        "id": "Ctpbi4lz_1cG"
      }
    },
    {
      "cell_type": "markdown",
      "source": [
        "\n",
        "\n",
        "## Task 3\n",
        "\n",
        "* Explore the Hugging Face model repository. https://huggingface.co/models\n",
        "* Try some of the QA models for a language of your interest. Can you find any? Below you can see a model for Finnish."
      ],
      "metadata": {
        "id": "ZdiUvgFwqGWk"
      }
    },
    {
      "cell_type": "code",
      "source": [
        "from transformers import AutoTokenizer, AutoModelForQuestionAnswering, pipeline\n",
        "import torch\n",
        "\n",
        "#TURKISH\n",
        "tokenizer = AutoTokenizer.from_pretrained(\"savasy/bert-base-turkish-squad\")\n",
        "model = AutoModelForQuestionAnswering.from_pretrained(\"savasy/bert-base-turkish-squad\")\n",
        "nlp=pipeline(\"question-answering\", model=model, tokenizer=tokenizer)\n"
      ],
      "metadata": {
        "colab": {
          "base_uri": "https://localhost:8080/"
        },
        "id": "y44Hyyow6GBP",
        "outputId": "1b535c9b-c611-40ee-be69-854924f2f0ae"
      },
      "execution_count": 30,
      "outputs": [
        {
          "output_type": "stream",
          "name": "stderr",
          "text": [
            "Some weights of the model checkpoint at savasy/bert-base-turkish-squad were not used when initializing BertForQuestionAnswering: ['bert.pooler.dense.bias', 'bert.pooler.dense.weight']\n",
            "- This IS expected if you are initializing BertForQuestionAnswering from the checkpoint of a model trained on another task or with another architecture (e.g. initializing a BertForSequenceClassification model from a BertForPreTraining model).\n",
            "- This IS NOT expected if you are initializing BertForQuestionAnswering from the checkpoint of a model that you expect to be exactly identical (initializing a BertForSequenceClassification model from a BertForSequenceClassification model).\n",
            "Device set to use cpu\n"
          ]
        }
      ]
    },
    {
      "cell_type": "code",
      "source": [
        "context=\"\"\"Cemiyetin üst yönetimi ile Almanya arasında 2 Ağustos 1914 tarihinde hükûmete ve padişaha haber vermeden imzalanan ittifak antlaşması sonucunda Osmanlı Devleti, I. Dünya Savaşı'na Almanya safında katıldı. Bu olay cemiyet içinde eleştirilere ve bölünmeye yol açtı. Cavid Bey, Ahmed İzzet Paşa, Çürüksulu Mahmud Paşa gibi önemli İttihatçılar hükûmetten ve askeri görevlerinden ayrıldılar. Fethi Bey, Rauf Bey, Mustafa Kemal gibi bazıları da görevde kalmakla birlikte Enver Paşa başkanlığındaki cemiyet yönetimine karşı çeşitli derecelerde tavır aldılar.\n",
        "\n",
        "Savaş sırasında Talat Paşa sadrazamlığa getirildi. Harbiye nazırı ve başkomutan Enver Paşa'nın komutasındaki ordunun savaşın ilk aylarında Sarıkamış'ta, daha sonra ise Filistin'de ve Irak'ta ağır yenilgiler alması ve Enver Paşa'ya yakınlığıyla tanınan İaşe Nazırı Topal İsmail Hakkı Paşa'ya atfedilen büyük yolsuzluklar rejimi yıprattı.\"\"\"\n",
        "\n",
        "print(nlp(question=\"Osmanlı Devleti savaşa ne zaman girdi?\", context=context))\n",
        "print(nlp(question=\"Savaşta yenilgiler nerelerde alındı?\", context=context))\n",
        "print(nlp(question=\"Savaşta başkomutan kimdi?\", context=context))\n"
      ],
      "metadata": {
        "colab": {
          "base_uri": "https://localhost:8080/"
        },
        "id": "l2MAvHbd6Z7d",
        "outputId": "128e079c-3c5e-42d5-9b43-479d7e405114"
      },
      "execution_count": 31,
      "outputs": [
        {
          "output_type": "stream",
          "name": "stdout",
          "text": [
            "{'score': 0.6988526582717896, 'start': 44, 'end': 58, 'answer': '2 Ağustos 1914'}\n",
            "{'score': 0.5819462537765503, 'start': 721, 'end': 743, 'answer': \"Filistin'de ve Irak'ta\"}\n",
            "{'score': 0.9659950733184814, 'start': 633, 'end': 643, 'answer': 'Enver Paşa'}\n"
          ]
        }
      ]
    },
    {
      "cell_type": "markdown",
      "source": [
        "NOT BAD! Missed something for the second question but it was kinda tricky."
      ],
      "metadata": {
        "id": "3zHJOQUpDCI3"
      }
    },
    {
      "cell_type": "markdown",
      "source": [
        "# Summarization\n",
        "\n",
        "* text2text problem"
      ],
      "metadata": {
        "id": "BXuTUdM6DxCF"
      }
    },
    {
      "cell_type": "markdown",
      "source": [
        "## Task 1\n",
        "\n",
        "* Pick a text of your liking, and test the summarization pipeline below on it. Does it do a decent job?"
      ],
      "metadata": {
        "id": "4kY2t_mODzWB"
      }
    },
    {
      "cell_type": "code",
      "source": [
        "pipe=transformers.pipeline(\"summarization\")\n",
        "\n",
        "context=\"\"\"\n",
        "Pulp Fiction is a 1994 American independent crime film written and directed by Quentin Tarantino from a story he conceived with Roger Avary.[3] It tells four intertwining tales of crime and violence in Los Angeles. The film stars John Travolta, Samuel L. Jackson, Bruce Willis, Tim Roth, Ving Rhames, and Uma Thurman. The title refers to the pulp magazines and hardboiled crime novels popular during the mid-20th century, known for their graphic violence and punchy dialogue.\n",
        "\n",
        "Tarantino wrote Pulp Fiction in 1992 and 1993, incorporating scenes that Avary originally wrote for True Romance (1993). Its plot occurs out of chronological order. The film is also self-referential from its opening moments, beginning with a title card that gives two dictionary definitions of \"pulp\". Considerable screen time is devoted to monologues and casual conversations with eclectic dialogue revealing each character's perspectives on several subjects, and the film features an ironic combination of humor and strong violence. TriStar Pictures reportedly turned down the script as \"too demented\". Miramax Films co-chairman Harvey Weinstein was enthralled, however, and the film became the first that Miramax Films fully financed.\n",
        "\n",
        "Pulp Fiction won the Palme d'Or at the 1994 Cannes Film Festival and was a major critical and commercial success. It was nominated for seven awards at the 67th Academy Awards, including Best Picture, and won Best Original Screenplay; Travolta, Jackson, and Thurman were nominated for Best Actor, Best Supporting Actor, and Best Supporting Actress respectively. As a result of the film's success, Travolta's career was reinvigorated. The film's development, marketing, distribution, and profitability had a sweeping effect on independent cinema.\n",
        "\n",
        "Pulp Fiction is widely regarded as Tarantino's magnum opus, with particular praise for its screenwriting.[4] The self-reflexivity, unconventional structure, and extensive homage and pastiche have led critics to describe it as a touchstone of postmodern film. It is often considered a cultural watershed, influencing films and other media that adopted elements of its style. The cast was also widely praised, with Travolta, Thurman, and Jackson earning high acclaim. In 2008, Entertainment Weekly named it the best film since 1983[5] and it has appeared on many critics' lists of the greatest films ever made. In 2013, Pulp Fiction was selected for preservation in the United States National Film Registry by the Library of Congress as \"culturally, historically, or aesthetically significant\".[6][7][8]\n",
        "\"\"\"\n",
        "\n",
        "pipe(context)"
      ],
      "metadata": {
        "colab": {
          "base_uri": "https://localhost:8080/"
        },
        "id": "6uFM1S-aD5N1",
        "outputId": "2c52f867-c3ba-4f00-dfe3-e6d3107d315a"
      },
      "execution_count": 32,
      "outputs": [
        {
          "output_type": "stream",
          "name": "stderr",
          "text": [
            "No model was supplied, defaulted to sshleifer/distilbart-cnn-12-6 and revision a4f8f3e (https://huggingface.co/sshleifer/distilbart-cnn-12-6).\n",
            "Using a pipeline without specifying a model name and revision in production is not recommended.\n",
            "Device set to use cpu\n"
          ]
        },
        {
          "output_type": "execute_result",
          "data": {
            "text/plain": [
              "[{'summary_text': ' Quentin Tarantino wrote Pulp Fiction in 1992 and 1993, incorporating scenes that Avary originally wrote for True Romance . The film is self-referential from its opening moments, beginning with a title card that gives two dictionary definitions of \"pulp\" The title refers to pulp magazines and hardboiled crime novels popular during the mid-20th century, known for their graphic violence and punchy dialogue . It won the Palme d\\'Or at the 1994 Cannes Film Festival and was a major critical and commercial success .'}]"
            ]
          },
          "metadata": {},
          "execution_count": 32
        }
      ]
    },
    {
      "cell_type": "markdown",
      "source": [
        "## Task 2\n",
        "\n",
        "* The pipeline accepts a `min_length` and `max_length` parameters when you run it, try to adjust these to various lengths and see if the model comes up with a reasonable summarization choice."
      ],
      "metadata": {
        "id": "IcuCwLiuD1mE"
      }
    },
    {
      "cell_type": "code",
      "source": [
        "pipe(context,min_length=15,max_length=30)"
      ],
      "metadata": {
        "colab": {
          "base_uri": "https://localhost:8080/"
        },
        "id": "x--TeZCDD-ib",
        "outputId": "80f16fd4-dbc4-4d7c-9836-bb4c055b0738"
      },
      "execution_count": 33,
      "outputs": [
        {
          "output_type": "execute_result",
          "data": {
            "text/plain": [
              "[{'summary_text': ' Quentin Tarantino wrote Pulp Fiction in 1992 and 1993, incorporating scenes that Avary originally wrote for True Romance (1993) Pulp'}]"
            ]
          },
          "metadata": {},
          "execution_count": 33
        }
      ]
    },
    {
      "cell_type": "code",
      "source": [
        "pipe(context,min_length=45,max_length=60)"
      ],
      "metadata": {
        "colab": {
          "base_uri": "https://localhost:8080/"
        },
        "id": "hC5H-XzBE19s",
        "outputId": "6a186afb-186a-4fb4-a85c-debc66df0301"
      },
      "execution_count": 34,
      "outputs": [
        {
          "output_type": "execute_result",
          "data": {
            "text/plain": [
              "[{'summary_text': ' Quentin Tarantino wrote Pulp Fiction in 1992 and 1993, incorporating scenes that Avary originally wrote for True Romance . The film is self-referential from its opening moments, beginning with a title card that gives two dictionary definitions of \"pulp\" John Travolta, Samuel'}]"
            ]
          },
          "metadata": {},
          "execution_count": 34
        }
      ]
    },
    {
      "cell_type": "code",
      "source": [
        "pipe(context,min_length=100,max_length=120)"
      ],
      "metadata": {
        "colab": {
          "base_uri": "https://localhost:8080/"
        },
        "id": "Ct5qwlWeE72c",
        "outputId": "2ba265c4-0783-4469-ea54-89a4caccc077"
      },
      "execution_count": 35,
      "outputs": [
        {
          "output_type": "execute_result",
          "data": {
            "text/plain": [
              "[{'summary_text': ' Quentin Tarantino wrote Pulp Fiction in 1992 and 1993, incorporating scenes that Avary originally wrote for True Romance . The film is self-referential from its opening moments, beginning with a title card that gives two dictionary definitions of \"pulp\" The title refers to pulp magazines and hardboiled crime novels popular during the mid-20th century, known for their graphic violence and punchy dialogue . It won the Palme d\\'Or at the 1994 Cannes Film Festival and was a major critical and commercial success . It is widely regarded as Tarantino\\'s magnum opus,'}]"
            ]
          },
          "metadata": {},
          "execution_count": 35
        }
      ]
    },
    {
      "cell_type": "markdown",
      "source": [
        "The model does not come up with reasonable summarization choices."
      ],
      "metadata": {
        "id": "hOlvQ-ZfFN_4"
      }
    },
    {
      "cell_type": "markdown",
      "source": [
        "## Task 3\n",
        "\n",
        "* Explore the Hugging Face models repository and experiment with summarization models for other languages of your choice. Do they exist? Do they work?"
      ],
      "metadata": {
        "id": "JYPvcf9TD3hV"
      }
    },
    {
      "cell_type": "markdown",
      "source": [
        "Since I was not satistifed with this model, I wanted to experiment with other English summarization models first."
      ],
      "metadata": {
        "id": "dErtZvx5ALKE"
      }
    },
    {
      "cell_type": "code",
      "source": [
        "summarizer = pipeline(\"summarization\", model=\"facebook/bart-large-cnn\")\n",
        "\n",
        "context=\"\"\"\n",
        "Pulp Fiction is a 1994 American independent crime film written and directed by Quentin Tarantino from a story he conceived with Roger Avary.[3] It tells four intertwining tales of crime and violence in Los Angeles. The film stars John Travolta, Samuel L. Jackson, Bruce Willis, Tim Roth, Ving Rhames, and Uma Thurman. The title refers to the pulp magazines and hardboiled crime novels popular during the mid-20th century, known for their graphic violence and punchy dialogue.\n",
        "\n",
        "Tarantino wrote Pulp Fiction in 1992 and 1993, incorporating scenes that Avary originally wrote for True Romance (1993). Its plot occurs out of chronological order. The film is also self-referential from its opening moments, beginning with a title card that gives two dictionary definitions of \"pulp\". Considerable screen time is devoted to monologues and casual conversations with eclectic dialogue revealing each character's perspectives on several subjects, and the film features an ironic combination of humor and strong violence. TriStar Pictures reportedly turned down the script as \"too demented\". Miramax Films co-chairman Harvey Weinstein was enthralled, however, and the film became the first that Miramax Films fully financed.\n",
        "\n",
        "Pulp Fiction won the Palme d'Or at the 1994 Cannes Film Festival and was a major critical and commercial success. It was nominated for seven awards at the 67th Academy Awards, including Best Picture, and won Best Original Screenplay; Travolta, Jackson, and Thurman were nominated for Best Actor, Best Supporting Actor, and Best Supporting Actress respectively. As a result of the film's success, Travolta's career was reinvigorated. The film's development, marketing, distribution, and profitability had a sweeping effect on independent cinema.\n",
        "\n",
        "Pulp Fiction is widely regarded as Tarantino's magnum opus, with particular praise for its screenwriting.[4] The self-reflexivity, unconventional structure, and extensive homage and pastiche have led critics to describe it as a touchstone of postmodern film. It is often considered a cultural watershed, influencing films and other media that adopted elements of its style. The cast was also widely praised, with Travolta, Thurman, and Jackson earning high acclaim. In 2008, Entertainment Weekly named it the best film since 1983[5] and it has appeared on many critics' lists of the greatest films ever made. In 2013, Pulp Fiction was selected for preservation in the United States National Film Registry by the Library of Congress as \"culturally, historically, or aesthetically significant\".[6][7][8]\n",
        "\"\"\"\n",
        "print(summarizer(context, do_sample=False))"
      ],
      "metadata": {
        "colab": {
          "base_uri": "https://localhost:8080/"
        },
        "id": "eazNt2m7Fe9S",
        "outputId": "b51a3bfe-dac5-4a8a-be11-99e0b843e839"
      },
      "execution_count": 36,
      "outputs": [
        {
          "output_type": "stream",
          "name": "stderr",
          "text": [
            "Device set to use cpu\n"
          ]
        },
        {
          "output_type": "stream",
          "name": "stdout",
          "text": [
            "[{'summary_text': \"Pulp Fiction is a 1994 American independent crime film written and directed by Quentin Tarantino from a story he conceived with Roger Avary. The film stars John Travolta, Samuel L. Jackson, Bruce Willis, Tim Roth, Ving Rhames, and Uma Thurman. The title refers to the pulp magazines and hardboiled crime novels popular during the mid-20th century. Pulp Fiction won the Palme d'Or at the 1994 Cannes Film Festival and was a major critical and commercial success.\"}]\n"
          ]
        }
      ]
    },
    {
      "cell_type": "code",
      "source": [
        "print(summarizer(context, max_length=30, min_length=15, do_sample=False))"
      ],
      "metadata": {
        "colab": {
          "base_uri": "https://localhost:8080/"
        },
        "id": "L7C-1fihFqX_",
        "outputId": "c3c82387-cdd9-455f-e241-c6f3a58ae615"
      },
      "execution_count": 37,
      "outputs": [
        {
          "output_type": "stream",
          "name": "stdout",
          "text": [
            "[{'summary_text': 'Pulp Fiction is a 1994 American independent crime film written and directed by Quentin Tarantino from a story he conceived with Roger Avary.'}]\n"
          ]
        }
      ]
    },
    {
      "cell_type": "code",
      "source": [
        "print(summarizer(context, max_length=60, min_length=45, do_sample=False))"
      ],
      "metadata": {
        "colab": {
          "base_uri": "https://localhost:8080/"
        },
        "id": "5_K1DOg1Fx81",
        "outputId": "9bb38be5-5097-484f-ca4f-12e6e679a188"
      },
      "execution_count": 38,
      "outputs": [
        {
          "output_type": "stream",
          "name": "stdout",
          "text": [
            "[{'summary_text': 'Pulp Fiction is a 1994 American independent crime film written and directed by Quentin Tarantino from a story he conceived with Roger Avary. The film stars John Travolta, Samuel L. Jackson, Bruce Willis, Tim Roth, Ving Rhames, and Uma Thurman'}]\n"
          ]
        }
      ]
    },
    {
      "cell_type": "code",
      "source": [
        "print(summarizer(context, max_length=120, min_length=100, do_sample=False))"
      ],
      "metadata": {
        "colab": {
          "base_uri": "https://localhost:8080/"
        },
        "id": "SAYfgqXMF3sA",
        "outputId": "97dd70df-dc4e-4ae1-c969-e46351e033af"
      },
      "execution_count": 39,
      "outputs": [
        {
          "output_type": "stream",
          "name": "stdout",
          "text": [
            "[{'summary_text': \"Pulp Fiction is a 1994 American independent crime film written and directed by Quentin Tarantino from a story he conceived with Roger Avary. The film stars John Travolta, Samuel L. Jackson, Bruce Willis, Tim Roth, Ving Rhames, and Uma Thurman. The title refers to the pulp magazines and hardboiled crime novels popular during the mid-20th century, known for their graphic violence and punchy dialogue. Pulp Fiction won the Palme d'Or at the 1994 Cannes Film Festival and was a major critical and commercial success.\"}]\n"
          ]
        }
      ]
    },
    {
      "cell_type": "markdown",
      "source": [
        "This summarization model is definetely better at adjusting the min-max parameters and always provides a reasonable summarization.\n"
      ],
      "metadata": {
        "id": "vfb9yQPJFpsb"
      }
    },
    {
      "cell_type": "markdown",
      "source": [
        "### Summarization - Turkish"
      ],
      "metadata": {
        "id": "JTXKFc3tAnn9"
      }
    },
    {
      "cell_type": "code",
      "source": [
        "import torch\n",
        "from transformers import BertTokenizerFast, EncoderDecoderModel\n",
        "device = 'cuda' if torch.cuda.is_available() else 'cpu'\n",
        "ckpt = 'mrm8488/bert2bert_shared-turkish-summarization'\n",
        "tokenizer = BertTokenizerFast.from_pretrained(ckpt)\n",
        "model = EncoderDecoderModel.from_pretrained(ckpt).to(device)\n",
        "\n",
        "def generate_summary(text):\n",
        "\n",
        "   inputs = tokenizer([text], padding=\"max_length\", truncation=True, return_tensors=\"pt\")\n",
        "   input_ids = inputs.input_ids.to(device)\n",
        "   attention_mask = inputs.attention_mask.to(device)\n",
        "   output = model.generate(input_ids, attention_mask=attention_mask)\n",
        "   return tokenizer.decode(output[0], skip_special_tokens=True)\n",
        "\n",
        "text = \"\"\"\n",
        "Ucuz Roman (İngilizce: Pulp Fiction), Quentin Tarantino yönetmenliğindeki Roger Avary ile birlikte yazılmış, 1994 yapımı, kült kabul edilen bir filmdir.\n",
        "Ucuz Roman, En İyi Film dahil 7 dalda Oscar'a aday gösterilmiş ve En İyi Orijinal Senaryo Oscarı'nı almıştır.\n",
        "Aynı zamanda 1994 Cannes Film Festivali'nde en iyi film ödülü olan Altın Palmiye Ödülü'nün sahibidir.\n",
        "IMDB tüm zamanların en iyi filmleri sıralamasında 1,2 milyon oylama sonucu 8.9 puanla 8. sıradadır.[1]\n",
        "Ringo (Tim Roth) ve Yolanda (Amanda Plummer) birbirlerine deliler gibi aşık bir soyguncu çifttir ve işlerine biraz heyecan katmak için farklı bir plan yaparlar.\n",
        "Jules (Samuel L. Jackson) ve Vincent (John Travolta) iki profesyonel tetikçidir ve patronları Marsellus Wallace'ı (Ving Rhames) dolandırmaya çalışan birkaç sahtekar genci\n",
        "\"temizlemeye\" giderler. Patron Marsellus ise boksör Butch ile (Bruce Willis) bir şike anlaşması yapar. Fakat cesur ve gururlu Butch final maçında yenilmeyi kendine yediremez\n",
        "ve anlaşmayı bozup kaçmayı planlar. Ayrıca Vincent patronunun karısı Mia ile (Uma Thurman) patronunun ricası üzerine bir gece vakit geçirecektir.\n",
        "Tek yapması gereken Marsellus Florida'dayken Mia'yı dışarı çıkarıp eğlendirmektir. Ancak kimsenin işleri yolunda gitmez ve ummadıkları şeylerle yüzleşmek zorunda kalırlar.\n",
        "\"\"\"\n",
        "generate_summary(text)\n"
      ],
      "metadata": {
        "colab": {
          "base_uri": "https://localhost:8080/",
          "height": 984
        },
        "id": "Wjjva6e2AsQi",
        "outputId": "2d7a943c-93fc-4c05-805f-cc0c4ab7e8e9"
      },
      "execution_count": 40,
      "outputs": [
        {
          "output_type": "stream",
          "name": "stderr",
          "text": [
            "Config of the encoder: <class 'transformers.models.bert.modeling_bert.BertModel'> is overwritten by shared encoder config: BertConfig {\n",
            "  \"_name_or_path\": \"dbmdz/bert-base-turkish-cased\",\n",
            "  \"attention_probs_dropout_prob\": 0.1,\n",
            "  \"classifier_dropout\": null,\n",
            "  \"gradient_checkpointing\": false,\n",
            "  \"hidden_act\": \"gelu\",\n",
            "  \"hidden_dropout_prob\": 0.1,\n",
            "  \"hidden_size\": 768,\n",
            "  \"initializer_range\": 0.02,\n",
            "  \"intermediate_size\": 3072,\n",
            "  \"layer_norm_eps\": 1e-12,\n",
            "  \"max_position_embeddings\": 512,\n",
            "  \"model_type\": \"bert\",\n",
            "  \"num_attention_heads\": 12,\n",
            "  \"num_hidden_layers\": 12,\n",
            "  \"pad_token_id\": 0,\n",
            "  \"position_embedding_type\": \"absolute\",\n",
            "  \"transformers_version\": \"4.48.3\",\n",
            "  \"type_vocab_size\": 2,\n",
            "  \"use_cache\": true,\n",
            "  \"vocab_size\": 32000\n",
            "}\n",
            "\n",
            "Config of the decoder: <class 'transformers.models.bert.modeling_bert.BertLMHeadModel'> is overwritten by shared decoder config: BertConfig {\n",
            "  \"_name_or_path\": \"dbmdz/bert-base-turkish-cased\",\n",
            "  \"add_cross_attention\": true,\n",
            "  \"attention_probs_dropout_prob\": 0.1,\n",
            "  \"classifier_dropout\": null,\n",
            "  \"gradient_checkpointing\": false,\n",
            "  \"hidden_act\": \"gelu\",\n",
            "  \"hidden_dropout_prob\": 0.1,\n",
            "  \"hidden_size\": 768,\n",
            "  \"initializer_range\": 0.02,\n",
            "  \"intermediate_size\": 3072,\n",
            "  \"is_decoder\": true,\n",
            "  \"layer_norm_eps\": 1e-12,\n",
            "  \"max_position_embeddings\": 512,\n",
            "  \"model_type\": \"bert\",\n",
            "  \"num_attention_heads\": 12,\n",
            "  \"num_hidden_layers\": 12,\n",
            "  \"pad_token_id\": 0,\n",
            "  \"position_embedding_type\": \"absolute\",\n",
            "  \"transformers_version\": \"4.48.3\",\n",
            "  \"type_vocab_size\": 2,\n",
            "  \"use_cache\": true,\n",
            "  \"vocab_size\": 32000\n",
            "}\n",
            "\n",
            "The following encoder weights were not tied to the decoder ['bert/pooler']\n",
            "The following encoder weights were not tied to the decoder ['bert/pooler']\n",
            "The following encoder weights were not tied to the decoder ['bert/pooler']\n",
            "The following encoder weights were not tied to the decoder ['bert/pooler']\n"
          ]
        },
        {
          "output_type": "execute_result",
          "data": {
            "text/plain": [
              "'Ucuz Roman ( İngilizce : Pulp Fiction ), Quentin Tarantino yönetmenliğindeki Roger Avary ile birlikte yazılmış, 1994 yapımı, kült kabul edilen bir filmdir.'"
            ],
            "application/vnd.google.colaboratory.intrinsic+json": {
              "type": "string"
            }
          },
          "metadata": {},
          "execution_count": 40
        }
      ]
    },
    {
      "cell_type": "markdown",
      "source": [
        "There is no word count parameter unfortunately. And the model does not summarize the text at all."
      ],
      "metadata": {
        "id": "JldbL1WsDjUx"
      }
    },
    {
      "cell_type": "markdown",
      "source": [
        "## Task 4\n",
        "\n",
        "* If you can access ChatGPT, try to have it summarize a piece of text. Did it work as you expected? Were you able to control the length effectively? How about other languages?"
      ],
      "metadata": {
        "id": "ZfTSlYYKs0cN"
      }
    },
    {
      "cell_type": "markdown",
      "source": [
        "### ChatGPT\n",
        "\n",
        "\n",
        "*   free: Pulp Fiction (1994) is an independent crime film written and directed by Quentin Tarantino, featuring four interwoven crime stories in Los Angeles. Starring John Travolta, Samuel L. Jackson, Uma Thurman, and others, the film is known for its nonlinear structure, sharp dialogue, and mix of humor and violence. Initially rejected by TriStar Pictures, it was later financed by Miramax and became a critical and commercial success. It won the Palme d’Or at Cannes and the Best Original Screenplay Oscar. The film revitalized Travolta’s career and had a major impact on independent cinema. It is widely regarded as Tarantino’s magnum opus, a key postmodern film, and was preserved in the U.S. National Film Registry for its cultural significance.\n",
        "*   [15,30]: Pulp Fiction (1994), directed by Quentin Tarantino, is a nonlinear crime film praised for its dialogue, humor, and violence. It won the Palme d'Or, an Oscar, and influenced independent cinema.\n",
        "*   [45,60]: Pulp Fiction (1994), directed by Quentin Tarantino, is a nonlinear crime film featuring interwoven stories, sharp dialogue, and dark humor. It won the Palme d’Or and Best Original Screenplay Oscar, revitalized John Travolta’s career, and had a major impact on independent cinema. Considered Tarantino’s magnum opus, it was preserved in the U.S. National Film Registry for its cultural significance.\n",
        "*   [100,120]: Pulp Fiction (1994), directed by Quentin Tarantino, is a nonlinear crime film known for its interwoven stories, sharp dialogue, and mix of humor and violence. Starring John Travolta, Samuel L. Jackson, Uma Thurman, and others, it won the Palme d’Or at Cannes and the Best Original Screenplay Oscar, revitalizing Travolta’s career. Initially rejected by TriStar, it was fully financed by Miramax and became a critical and commercial success. Widely regarded as Tarantino’s magnum opus, it influenced independent cinema and postmodern filmmaking. In 2013, it was selected for preservation in the U.S. National Film Registry for its cultural, historical, and aesthetic significance.\n",
        "\n",
        "\n"
      ],
      "metadata": {
        "id": "-JneCe9cGij2"
      }
    },
    {
      "cell_type": "markdown",
      "source": [
        "### DeepSeek\n",
        "\n",
        "\n",
        "*   free: \"Pulp Fiction\" is a 1994 independent crime film written and directed by Quentin Tarantino, with contributions from Roger Avary. The film features interwoven stories of crime and violence in Los Angeles, starring John Travolta, Samuel L. Jackson, Bruce Willis, Tim Roth, Ving Rhames, and Uma Thurman. Known for its graphic violence, punchy dialogue, and non-linear narrative, the film draws inspiration from mid-20th-century pulp magazines and crime novels. Initially rejected by TriStar Pictures as \"too demented,\" the film was fully financed by Miramax Films, leading to its critical and commercial success. It won the Palme d'Or at the 1994 Cannes Film Festival and earned seven Academy Award nominations, including Best Picture, winning Best Original Screenplay. The film revitalized Travolta's career and had a significant impact on independent cinema. Widely regarded as Tarantino's masterpiece, \"Pulp Fiction\" is celebrated for its innovative screenwriting, postmodern style, and cultural influence. It has been preserved in the U.S. National Film Registry for its cultural, historical, and aesthetic significance and is frequently listed among the greatest films ever made.\n",
        "*   [15,30]: \"Pulp Fiction\" (1994), directed by Quentin Tarantino, is a nonlinear crime film praised for its dialogue, violence, and cultural impact. It won awards, revitalized careers, and influenced cinema.\n",
        "*   [45,60]: \"Pulp Fiction\" (1994), directed by Quentin Tarantino, is a groundbreaking crime film with interwoven stories, sharp dialogue, and a nonlinear narrative. Starring John Travolta, Samuel L. Jackson, and Uma Thurman, it won the Palme d'Or and an Oscar for Best Original Screenplay. Celebrated as a postmodern masterpiece, it revitalized careers, influenced cinema, and is preserved in the U.S. National Film Registry\n",
        "*   [100,120]: \"Pulp Fiction\" (1994), written and directed by Quentin Tarantino, is a critically acclaimed independent crime film featuring interwoven stories of crime and violence in Los Angeles. Starring John Travolta, Samuel L. Jackson, Uma Thurman, and Bruce Willis, the film is known for its nonlinear narrative, sharp dialogue, and blend of humor and graphic violence. Inspired by pulp magazines and crime novels, it won the Palme d'Or at Cannes and an Academy Award for Best Original Screenplay. Initially rejected as \"too demented,\" it was financed by Miramax and became a cultural phenomenon, revitalizing Travolta's career and influencing independent cinema. Regarded as Tarantino's masterpiece, it is celebrated for its postmodern style, innovative storytelling, and cultural impact, earning a place in the U.S. National Film Registry.\n",
        "\n",
        "\n"
      ],
      "metadata": {
        "id": "CFdIy6UGIIAP"
      }
    },
    {
      "cell_type": "markdown",
      "source": [
        "### Grok\n",
        "\n",
        "\n",
        "*   free: Pulp Fiction is a 1994 American independent crime film written and directed by Quentin Tarantino, based on a story he developed with Roger Avary. Set in Los Angeles, it weaves together four interconnected stories of crime and violence, featuring a star-studded cast including John Travolta, Samuel L. Jackson, Bruce Willis, Tim Roth, Ving Rhames, and Uma Thurman. The title nods to the gritty, violent pulp magazines and crime novels of the mid-20th century, reflected in the film’s sharp dialogue and graphic scenes. Written in 1992-1993, Pulp Fiction blends non-linear storytelling, self-referential elements, and a mix of humor and brutality, with eclectic monologues and conversations driving much of its runtime. Initially rejected by TriStar Pictures as \"too demented,\" the script was embraced by Miramax Films’ Harvey Weinstein, becoming the first film fully financed by the studio. It premiered to massive success, winning the Palme d'Or at the 1994 Cannes Film Festival and earning seven Oscar nominations, including Best Picture, with a win for Best Original Screenplay. The film revitalized Travolta’s career and garnered widespread praise for its cast, particularly Travolta, Jackson, and Thurman. Hailed as Tarantino’s masterpiece, Pulp Fiction is celebrated for its innovative structure, postmodern style, and cultural impact, influencing independent cinema and beyond. It was named the best film since 1983 by Entertainment Weekly in 2008 and was added to the National Film Registry in 2013 for its significance.\n",
        "*   [15,30]: Pulp Fiction (1994), Quentin Tarantino’s iconic crime film, intertwines four violent tales with stellar performances, winning Best Screenplay Oscar and reshaping indie cinema with its bold, postmodern style.\n",
        "*   [45,60]: Pulp Fiction, a 1994 crime film by Quentin Tarantino, intertwines four tales of violence and redemption in LA. Starring Travolta, Jackson, and Thurman, it won Best Screenplay at the Oscars, revitalized Travolta’s career, and became a cultural milestone, blending sharp dialogue, humor, and postmodern flair, influencing indie cinema and earning a spot in the National Film Registry.\n",
        "*   [100,120]: Pulp Fiction, a 1994 independent crime film by Quentin Tarantino, intertwines four tales of violence and redemption in Los Angeles, featuring stars like John Travolta, Samuel L. Jackson, and Uma Thurman. Inspired by mid-20th-century pulp magazines, the film’s non-linear plot, sharp dialogue, and blend of humor and brutality captivated audiences. Initially rejected by TriStar as \"too demented,\" Miramax fully backed it, leading to a Palme d'Or win at Cannes and seven Oscar nominations, including Best Picture. Winning Best Original Screenplay, it revitalized Travolta’s career and reshaped indie cinema. Hailed as Tarantino’s masterpiece, its postmodern style earned it a place in the National Film Registry in 2013.\n",
        "\n",
        "\n"
      ],
      "metadata": {
        "id": "Ex3UQe1NJJPW"
      }
    },
    {
      "cell_type": "markdown",
      "source": [
        "All three are working well, both in summarization in general and adjusting the desired range of word count."
      ],
      "metadata": {
        "id": "z8P_3eOWMvoL"
      }
    },
    {
      "cell_type": "markdown",
      "source": [
        "### ChatGPT - Turkish\n",
        "\n",
        "\n",
        "* text: Ucuz Roman (İngilizce: Pulp Fiction), Quentin Tarantino yönetmenliğindeki Roger Avary ile birlikte yazılmış, 1994 yapımı, kült kabul edilen bir filmdir. Ucuz Roman, En İyi Film dahil 7 dalda Oscar'a aday gösterilmiş ve En İyi Orijinal Senaryo Oscarı'nı almıştır. Aynı zamanda 1994 Cannes Film Festivali'nde en iyi film ödülü olan Altın Palmiye Ödülü'nün sahibidir. IMDB tüm zamanların en iyi filmleri sıralamasında 1,2 milyon oylama sonucu 8.9 puanla 8. sıradadır.[1] Ringo (Tim Roth) ve Yolanda (Amanda Plummer) birbirlerine deliler gibi aşık bir soyguncu çifttir ve işlerine biraz heyecan katmak için farklı bir plan yaparlar. Jules (Samuel L. Jackson) ve Vincent (John Travolta) iki profesyonel tetikçidir ve patronları Marsellus Wallace'ı (Ving Rhames) dolandırmaya çalışan birkaç sahtekar genci \"temizlemeye\" giderler. Patron Marsellus ise boksör Butch ile (Bruce Willis) bir şike anlaşması yapar. Fakat cesur ve gururlu Butch final maçında yenilmeyi kendine yediremez ve anlaşmayı bozup kaçmayı planlar. Ayrıca Vincent patronunun karısı Mia ile (Uma Thurman) patronunun ricası üzerine bir gece vakit geçirecektir. Tek yapması gereken Marsellus Florida'dayken Mia'yı dışarı çıkarıp eğlendirmektir. Ancak kimsenin işleri yolunda gitmez ve ummadıkları şeylerle yüzleşmek zorunda kalırlar.\n",
        "*   free: Quentin Tarantino'nun Roger Avary ile birlikte yazdığı, 1994 yapımı kült film Ucuz Roman, En İyi Orijinal Senaryo Oscar'ı ve Cannes'da Altın Palmiye ödülünü kazandı. Film, bir dizi birbirine bağlı hikâyeyi anlatır: Soyguncu çift Ringo ve Yolanda, heyecan için farklı bir plan yapar. Tetikçiler Jules ve Vincent, patronları Marsellus Wallace’ı dolandıranları \"temizlemeye\" gider. Marsellus, boksör Butch ile şike anlaşması yapar ancak Butch, anlaşmayı bozup kaçmaya karar verir. Vincent ise patronunun eşi Mia ile vakit geçirmek zorundadır. Ancak hiçbir şey planlandığı gibi gitmez ve karakterler beklenmedik olaylarla karşılaşır.\n",
        "*   [15,30]: Ucuz Roman, Tarantino'nun ödüllü filmi, bir tetikçi ikilisi, bir boksör ve bir soyguncu çiftin kesişen hikâyelerini anlatan kült bir yapımdır.\n",
        "*   [45,60]: Ucuz Roman (Pulp Fiction), Quentin Tarantino’nun yönettiği, 1994 yapımı kült bir filmdir. Birbirine bağlı hikâyelerde, soyguncu bir çift, tetikçiler Jules ve Vincent, boksör Butch ve patronlarının eşi Mia’nın yolları kesişir. Planlar ters gider ve karakterler beklenmedik olaylarla yüzleşmek zorunda kalır. Film, Oscar ve Altın Palmiye kazandı.\n",
        "*   [100,120]: Ucuz Roman (Pulp Fiction), Quentin Tarantino’nun Roger Avary ile birlikte yazdığı, 1994 yapımı kült bir filmdir. En İyi Orijinal Senaryo Oscar’ını ve Cannes Film Festivali’nde Altın Palmiye’yi kazanmıştır. Film, bir dizi iç içe geçmiş hikâyeyi anlatır: Ringo ve Yolanda adlı soyguncu bir çift farklı bir plan yapar. Tetikçiler Jules ve Vincent, patronları Marsellus Wallace'ı dolandıranları temizlemeye gider. Marsellus, boksör Butch ile şike anlaşması yapar, ancak Butch yenilmeyi reddedip kaçmayı planlar. Vincent ise patronunun karısı Mia ile vakit geçirmek zorundadır. Ancak hiçbir şey planlandığı gibi gitmez ve tüm karakterler beklenmedik olaylarla karşı karşıya kalır.\n",
        "\n"
      ],
      "metadata": {
        "id": "ddL1jBqT50uX"
      }
    },
    {
      "cell_type": "markdown",
      "source": [
        "Almost as good as English version."
      ],
      "metadata": {
        "id": "bYQlGiSt65K2"
      }
    }
  ]
}